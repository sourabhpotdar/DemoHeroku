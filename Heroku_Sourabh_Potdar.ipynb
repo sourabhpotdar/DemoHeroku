{
 "cells": [
  {
   "cell_type": "markdown",
   "metadata": {
    "id": "7dgGzjw2Zb6A"
   },
   "source": [
    "## Heroku Deployment Demo - AI in Enterprise (AIDI - 2004 - 02)"
   ]
  },
  {
   "cell_type": "markdown",
   "metadata": {
    "id": "er_bcKY6Zb6Q"
   },
   "source": [
    "#### <font color='black'>LAB Assignment #4 - Heroku</font>"
   ]
  },
  {
   "cell_type": "markdown",
   "metadata": {
    "id": "tTrAyiL4Zb6S"
   },
   "source": [
    "**Submitted By : Sourabh Potdar**  \n",
    "**Student No: 100844478**"
   ]
  },
  {
   "cell_type": "markdown",
   "metadata": {
    "id": "aQKpiAd_Zb6V"
   },
   "source": [
    "**<font color='blue'>Independent Variables:</font>**  \n",
    "• Weight  \n",
    "• Length1   \n",
    "• Length2   \n",
    "• Length3    \n",
    "• Height    \n",
    "• Width    "
   ]
  },
  {
   "cell_type": "markdown",
   "metadata": {
    "id": "s47qDsqVZb6X"
   },
   "source": [
    "**<font color='blue'>Dependent Variable:</font>**   \n",
    "• Species "
   ]
  },
  {
   "cell_type": "markdown",
   "metadata": {
    "id": "8-HaTC8NZb6Z"
   },
   "source": [
    "Note: The Fish market dataset used in this analysis is from kaggle from the link - https://www.kaggle.com/aungpyaeap/fish-market. "
   ]
  },
  {
   "cell_type": "markdown",
   "metadata": {
    "id": "0IiTmJ2TZb6z"
   },
   "source": [
    "### Feature Engineering\n"
   ]
  },
  {
   "cell_type": "code",
   "execution_count": 1,
   "metadata": {
    "id": "OT3Vj72vfMJU"
   },
   "outputs": [],
   "source": [
    "# Import libraries\n",
    "import numpy as np\n",
    "import pandas as pd\n",
    "import matplotlib.pyplot as plt\n",
    "%matplotlib inline\n",
    "import seaborn as sns\n",
    "from sklearn.preprocessing import MinMaxScaler"
   ]
  },
  {
   "cell_type": "code",
   "execution_count": 2,
   "metadata": {
    "id": "TDlyd9txfNyT"
   },
   "outputs": [],
   "source": [
    "# Load the dataset\n",
    "df = pd.read_csv(\"Fish.csv\")"
   ]
  },
  {
   "cell_type": "code",
   "execution_count": 3,
   "metadata": {
    "colab": {
     "base_uri": "https://localhost:8080/",
     "height": 363
    },
    "id": "CMoFjxTkH1hc",
    "outputId": "4215964c-dc8b-4f32-c97b-8cde19ada035"
   },
   "outputs": [
    {
     "data": {
      "text/html": [
       "<div>\n",
       "<style scoped>\n",
       "    .dataframe tbody tr th:only-of-type {\n",
       "        vertical-align: middle;\n",
       "    }\n",
       "\n",
       "    .dataframe tbody tr th {\n",
       "        vertical-align: top;\n",
       "    }\n",
       "\n",
       "    .dataframe thead th {\n",
       "        text-align: right;\n",
       "    }\n",
       "</style>\n",
       "<table border=\"1\" class=\"dataframe\">\n",
       "  <thead>\n",
       "    <tr style=\"text-align: right;\">\n",
       "      <th></th>\n",
       "      <th>Species</th>\n",
       "      <th>Weight</th>\n",
       "      <th>Length1</th>\n",
       "      <th>Length2</th>\n",
       "      <th>Length3</th>\n",
       "      <th>Height</th>\n",
       "      <th>Width</th>\n",
       "    </tr>\n",
       "  </thead>\n",
       "  <tbody>\n",
       "    <tr>\n",
       "      <th>42</th>\n",
       "      <td>Roach</td>\n",
       "      <td>120.0</td>\n",
       "      <td>19.4</td>\n",
       "      <td>21.0</td>\n",
       "      <td>23.7</td>\n",
       "      <td>6.1146</td>\n",
       "      <td>3.2943</td>\n",
       "    </tr>\n",
       "    <tr>\n",
       "      <th>30</th>\n",
       "      <td>Bream</td>\n",
       "      <td>920.0</td>\n",
       "      <td>35.0</td>\n",
       "      <td>38.5</td>\n",
       "      <td>44.1</td>\n",
       "      <td>18.0369</td>\n",
       "      <td>6.3063</td>\n",
       "    </tr>\n",
       "    <tr>\n",
       "      <th>66</th>\n",
       "      <td>Parkki</td>\n",
       "      <td>140.0</td>\n",
       "      <td>19.0</td>\n",
       "      <td>20.7</td>\n",
       "      <td>23.2</td>\n",
       "      <td>8.5376</td>\n",
       "      <td>3.2944</td>\n",
       "    </tr>\n",
       "    <tr>\n",
       "      <th>61</th>\n",
       "      <td>Parkki</td>\n",
       "      <td>55.0</td>\n",
       "      <td>13.5</td>\n",
       "      <td>14.7</td>\n",
       "      <td>16.5</td>\n",
       "      <td>6.8475</td>\n",
       "      <td>2.3265</td>\n",
       "    </tr>\n",
       "    <tr>\n",
       "      <th>100</th>\n",
       "      <td>Perch</td>\n",
       "      <td>197.0</td>\n",
       "      <td>23.5</td>\n",
       "      <td>25.6</td>\n",
       "      <td>27.0</td>\n",
       "      <td>6.5610</td>\n",
       "      <td>4.2390</td>\n",
       "    </tr>\n",
       "    <tr>\n",
       "      <th>124</th>\n",
       "      <td>Perch</td>\n",
       "      <td>1000.0</td>\n",
       "      <td>39.8</td>\n",
       "      <td>43.0</td>\n",
       "      <td>45.2</td>\n",
       "      <td>11.9328</td>\n",
       "      <td>7.2772</td>\n",
       "    </tr>\n",
       "    <tr>\n",
       "      <th>153</th>\n",
       "      <td>Smelt</td>\n",
       "      <td>9.8</td>\n",
       "      <td>11.4</td>\n",
       "      <td>12.0</td>\n",
       "      <td>13.2</td>\n",
       "      <td>2.2044</td>\n",
       "      <td>1.1484</td>\n",
       "    </tr>\n",
       "    <tr>\n",
       "      <th>110</th>\n",
       "      <td>Perch</td>\n",
       "      <td>556.0</td>\n",
       "      <td>32.0</td>\n",
       "      <td>34.5</td>\n",
       "      <td>36.5</td>\n",
       "      <td>10.2565</td>\n",
       "      <td>6.3875</td>\n",
       "    </tr>\n",
       "    <tr>\n",
       "      <th>109</th>\n",
       "      <td>Perch</td>\n",
       "      <td>514.0</td>\n",
       "      <td>30.5</td>\n",
       "      <td>32.8</td>\n",
       "      <td>34.0</td>\n",
       "      <td>10.0300</td>\n",
       "      <td>6.0180</td>\n",
       "    </tr>\n",
       "    <tr>\n",
       "      <th>82</th>\n",
       "      <td>Perch</td>\n",
       "      <td>110.0</td>\n",
       "      <td>19.0</td>\n",
       "      <td>21.0</td>\n",
       "      <td>22.5</td>\n",
       "      <td>5.6925</td>\n",
       "      <td>3.5550</td>\n",
       "    </tr>\n",
       "  </tbody>\n",
       "</table>\n",
       "</div>"
      ],
      "text/plain": [
       "    Species  Weight  Length1  Length2  Length3   Height   Width\n",
       "42    Roach   120.0     19.4     21.0     23.7   6.1146  3.2943\n",
       "30    Bream   920.0     35.0     38.5     44.1  18.0369  6.3063\n",
       "66   Parkki   140.0     19.0     20.7     23.2   8.5376  3.2944\n",
       "61   Parkki    55.0     13.5     14.7     16.5   6.8475  2.3265\n",
       "100   Perch   197.0     23.5     25.6     27.0   6.5610  4.2390\n",
       "124   Perch  1000.0     39.8     43.0     45.2  11.9328  7.2772\n",
       "153   Smelt     9.8     11.4     12.0     13.2   2.2044  1.1484\n",
       "110   Perch   556.0     32.0     34.5     36.5  10.2565  6.3875\n",
       "109   Perch   514.0     30.5     32.8     34.0  10.0300  6.0180\n",
       "82    Perch   110.0     19.0     21.0     22.5   5.6925  3.5550"
      ]
     },
     "execution_count": 3,
     "metadata": {},
     "output_type": "execute_result"
    }
   ],
   "source": [
    "# Random display 10 datapoints.\n",
    "df.sample(10)"
   ]
  },
  {
   "cell_type": "code",
   "execution_count": 4,
   "metadata": {
    "colab": {
     "base_uri": "https://localhost:8080/"
    },
    "id": "5lsiWhc7Zb60",
    "outputId": "63af4e24-e3ae-441e-d329-53462908f747"
   },
   "outputs": [
    {
     "data": {
      "text/plain": [
       "(159, 7)"
      ]
     },
     "execution_count": 4,
     "metadata": {},
     "output_type": "execute_result"
    }
   ],
   "source": [
    "# View dimensions of dataset\n",
    "df.shape"
   ]
  },
  {
   "cell_type": "code",
   "execution_count": 5,
   "metadata": {
    "colab": {
     "base_uri": "https://localhost:8080/",
     "height": 300
    },
    "id": "emzhdKceZb62",
    "outputId": "51c347af-684f-4b36-c796-cd88ff425302"
   },
   "outputs": [
    {
     "data": {
      "text/html": [
       "<div>\n",
       "<style scoped>\n",
       "    .dataframe tbody tr th:only-of-type {\n",
       "        vertical-align: middle;\n",
       "    }\n",
       "\n",
       "    .dataframe tbody tr th {\n",
       "        vertical-align: top;\n",
       "    }\n",
       "\n",
       "    .dataframe thead th {\n",
       "        text-align: right;\n",
       "    }\n",
       "</style>\n",
       "<table border=\"1\" class=\"dataframe\">\n",
       "  <thead>\n",
       "    <tr style=\"text-align: right;\">\n",
       "      <th></th>\n",
       "      <th>Weight</th>\n",
       "      <th>Length1</th>\n",
       "      <th>Length2</th>\n",
       "      <th>Length3</th>\n",
       "      <th>Height</th>\n",
       "      <th>Width</th>\n",
       "    </tr>\n",
       "  </thead>\n",
       "  <tbody>\n",
       "    <tr>\n",
       "      <th>count</th>\n",
       "      <td>159.000000</td>\n",
       "      <td>159.000000</td>\n",
       "      <td>159.000000</td>\n",
       "      <td>159.000000</td>\n",
       "      <td>159.000000</td>\n",
       "      <td>159.000000</td>\n",
       "    </tr>\n",
       "    <tr>\n",
       "      <th>mean</th>\n",
       "      <td>398.326415</td>\n",
       "      <td>26.247170</td>\n",
       "      <td>28.415723</td>\n",
       "      <td>31.227044</td>\n",
       "      <td>8.970994</td>\n",
       "      <td>4.417486</td>\n",
       "    </tr>\n",
       "    <tr>\n",
       "      <th>std</th>\n",
       "      <td>357.978317</td>\n",
       "      <td>9.996441</td>\n",
       "      <td>10.716328</td>\n",
       "      <td>11.610246</td>\n",
       "      <td>4.286208</td>\n",
       "      <td>1.685804</td>\n",
       "    </tr>\n",
       "    <tr>\n",
       "      <th>min</th>\n",
       "      <td>0.000000</td>\n",
       "      <td>7.500000</td>\n",
       "      <td>8.400000</td>\n",
       "      <td>8.800000</td>\n",
       "      <td>1.728400</td>\n",
       "      <td>1.047600</td>\n",
       "    </tr>\n",
       "    <tr>\n",
       "      <th>25%</th>\n",
       "      <td>120.000000</td>\n",
       "      <td>19.050000</td>\n",
       "      <td>21.000000</td>\n",
       "      <td>23.150000</td>\n",
       "      <td>5.944800</td>\n",
       "      <td>3.385650</td>\n",
       "    </tr>\n",
       "    <tr>\n",
       "      <th>50%</th>\n",
       "      <td>273.000000</td>\n",
       "      <td>25.200000</td>\n",
       "      <td>27.300000</td>\n",
       "      <td>29.400000</td>\n",
       "      <td>7.786000</td>\n",
       "      <td>4.248500</td>\n",
       "    </tr>\n",
       "    <tr>\n",
       "      <th>75%</th>\n",
       "      <td>650.000000</td>\n",
       "      <td>32.700000</td>\n",
       "      <td>35.500000</td>\n",
       "      <td>39.650000</td>\n",
       "      <td>12.365900</td>\n",
       "      <td>5.584500</td>\n",
       "    </tr>\n",
       "    <tr>\n",
       "      <th>max</th>\n",
       "      <td>1650.000000</td>\n",
       "      <td>59.000000</td>\n",
       "      <td>63.400000</td>\n",
       "      <td>68.000000</td>\n",
       "      <td>18.957000</td>\n",
       "      <td>8.142000</td>\n",
       "    </tr>\n",
       "  </tbody>\n",
       "</table>\n",
       "</div>"
      ],
      "text/plain": [
       "            Weight     Length1     Length2     Length3      Height       Width\n",
       "count   159.000000  159.000000  159.000000  159.000000  159.000000  159.000000\n",
       "mean    398.326415   26.247170   28.415723   31.227044    8.970994    4.417486\n",
       "std     357.978317    9.996441   10.716328   11.610246    4.286208    1.685804\n",
       "min       0.000000    7.500000    8.400000    8.800000    1.728400    1.047600\n",
       "25%     120.000000   19.050000   21.000000   23.150000    5.944800    3.385650\n",
       "50%     273.000000   25.200000   27.300000   29.400000    7.786000    4.248500\n",
       "75%     650.000000   32.700000   35.500000   39.650000   12.365900    5.584500\n",
       "max    1650.000000   59.000000   63.400000   68.000000   18.957000    8.142000"
      ]
     },
     "execution_count": 5,
     "metadata": {},
     "output_type": "execute_result"
    }
   ],
   "source": [
    "# Description of the dataframe.\n",
    "df.describe()"
   ]
  },
  {
   "cell_type": "code",
   "execution_count": 6,
   "metadata": {
    "colab": {
     "base_uri": "https://localhost:8080/"
    },
    "id": "SU-V-KF4Zb7A",
    "outputId": "4d718c11-9dda-48c6-831c-a1f8ff280f43"
   },
   "outputs": [
    {
     "data": {
      "text/plain": [
       "Species     object\n",
       "Weight     float64\n",
       "Length1    float64\n",
       "Length2    float64\n",
       "Length3    float64\n",
       "Height     float64\n",
       "Width      float64\n",
       "dtype: object"
      ]
     },
     "execution_count": 6,
     "metadata": {},
     "output_type": "execute_result"
    }
   ],
   "source": [
    "# Check the data type of each column\n",
    "df.dtypes"
   ]
  },
  {
   "cell_type": "markdown",
   "metadata": {
    "id": "5rsMAPDaZb7E"
   },
   "source": [
    "**Summary of variables**  \n",
    "There are 7 variables in the dataset. All the variables are of continuous data type.  \n",
    "These are given by Weight, Length1, Length2, Length3, Height and Width.  \n",
    "Species is the target variable. It is categorical data type."
   ]
  },
  {
   "cell_type": "code",
   "execution_count": 7,
   "metadata": {
    "colab": {
     "base_uri": "https://localhost:8080/"
    },
    "id": "KzugDvSGZb7H",
    "outputId": "850d8b54-f1ac-4e2f-b228-1358185bbf7f"
   },
   "outputs": [
    {
     "data": {
      "text/plain": [
       "Species    0\n",
       "Weight     0\n",
       "Length1    0\n",
       "Length2    0\n",
       "Length3    0\n",
       "Height     0\n",
       "Width      0\n",
       "dtype: int64"
      ]
     },
     "execution_count": 7,
     "metadata": {},
     "output_type": "execute_result"
    }
   ],
   "source": [
    "# Check missing values in variables\n",
    "\n",
    "df.isnull().sum()"
   ]
  },
  {
   "cell_type": "markdown",
   "metadata": {
    "id": "vQyDaf-CZb7I"
   },
   "source": [
    "There are no missing values in the dataset."
   ]
  },
  {
   "cell_type": "code",
   "execution_count": 8,
   "metadata": {
    "id": "9gE06_o0Zb7O"
   },
   "outputs": [],
   "source": [
    "# Define Features and Target variable.\n",
    "\n",
    "X = df.drop(['Species'], axis=1)\n",
    "\n",
    "y = df['Species']"
   ]
  },
  {
   "cell_type": "code",
   "execution_count": 9,
   "metadata": {
    "colab": {
     "base_uri": "https://localhost:8080/",
     "height": 363
    },
    "id": "TX2TJcxsgnvh",
    "outputId": "effc94e5-53ce-48b0-a11f-5a580f956e0a"
   },
   "outputs": [
    {
     "data": {
      "text/html": [
       "<div>\n",
       "<style scoped>\n",
       "    .dataframe tbody tr th:only-of-type {\n",
       "        vertical-align: middle;\n",
       "    }\n",
       "\n",
       "    .dataframe tbody tr th {\n",
       "        vertical-align: top;\n",
       "    }\n",
       "\n",
       "    .dataframe thead th {\n",
       "        text-align: right;\n",
       "    }\n",
       "</style>\n",
       "<table border=\"1\" class=\"dataframe\">\n",
       "  <thead>\n",
       "    <tr style=\"text-align: right;\">\n",
       "      <th></th>\n",
       "      <th>Weight</th>\n",
       "      <th>Length1</th>\n",
       "      <th>Length2</th>\n",
       "      <th>Length3</th>\n",
       "      <th>Height</th>\n",
       "      <th>Width</th>\n",
       "    </tr>\n",
       "  </thead>\n",
       "  <tbody>\n",
       "    <tr>\n",
       "      <th>158</th>\n",
       "      <td>0.012061</td>\n",
       "      <td>0.122330</td>\n",
       "      <td>0.120000</td>\n",
       "      <td>0.125000</td>\n",
       "      <td>0.069872</td>\n",
       "      <td>0.117219</td>\n",
       "    </tr>\n",
       "    <tr>\n",
       "      <th>49</th>\n",
       "      <td>0.097576</td>\n",
       "      <td>0.281553</td>\n",
       "      <td>0.272727</td>\n",
       "      <td>0.302365</td>\n",
       "      <td>0.301063</td>\n",
       "      <td>0.364175</td>\n",
       "    </tr>\n",
       "    <tr>\n",
       "      <th>154</th>\n",
       "      <td>0.007394</td>\n",
       "      <td>0.077670</td>\n",
       "      <td>0.069091</td>\n",
       "      <td>0.077703</td>\n",
       "      <td>0.021012</td>\n",
       "      <td>0.048771</td>\n",
       "    </tr>\n",
       "    <tr>\n",
       "      <th>126</th>\n",
       "      <td>0.606061</td>\n",
       "      <td>0.634951</td>\n",
       "      <td>0.638182</td>\n",
       "      <td>0.628378</td>\n",
       "      <td>0.631253</td>\n",
       "      <td>1.000000</td>\n",
       "    </tr>\n",
       "    <tr>\n",
       "      <th>77</th>\n",
       "      <td>0.060606</td>\n",
       "      <td>0.168932</td>\n",
       "      <td>0.174545</td>\n",
       "      <td>0.175676</td>\n",
       "      <td>0.202802</td>\n",
       "      <td>0.320535</td>\n",
       "    </tr>\n",
       "    <tr>\n",
       "      <th>80</th>\n",
       "      <td>0.051515</td>\n",
       "      <td>0.200000</td>\n",
       "      <td>0.203636</td>\n",
       "      <td>0.202703</td>\n",
       "      <td>0.197880</td>\n",
       "      <td>0.280390</td>\n",
       "    </tr>\n",
       "    <tr>\n",
       "      <th>40</th>\n",
       "      <td>0.000000</td>\n",
       "      <td>0.223301</td>\n",
       "      <td>0.220000</td>\n",
       "      <td>0.236486</td>\n",
       "      <td>0.275519</td>\n",
       "      <td>0.324763</td>\n",
       "    </tr>\n",
       "    <tr>\n",
       "      <th>2</th>\n",
       "      <td>0.206061</td>\n",
       "      <td>0.318447</td>\n",
       "      <td>0.329091</td>\n",
       "      <td>0.376689</td>\n",
       "      <td>0.618123</td>\n",
       "      <td>0.514279</td>\n",
       "    </tr>\n",
       "    <tr>\n",
       "      <th>138</th>\n",
       "      <td>0.343636</td>\n",
       "      <td>0.693204</td>\n",
       "      <td>0.683636</td>\n",
       "      <td>0.673986</td>\n",
       "      <td>0.351950</td>\n",
       "      <td>0.538791</td>\n",
       "    </tr>\n",
       "    <tr>\n",
       "      <th>64</th>\n",
       "      <td>0.072727</td>\n",
       "      <td>0.194175</td>\n",
       "      <td>0.192727</td>\n",
       "      <td>0.211149</td>\n",
       "      <td>0.386787</td>\n",
       "      <td>0.263659</td>\n",
       "    </tr>\n",
       "  </tbody>\n",
       "</table>\n",
       "</div>"
      ],
      "text/plain": [
       "       Weight   Length1   Length2   Length3    Height     Width\n",
       "158  0.012061  0.122330  0.120000  0.125000  0.069872  0.117219\n",
       "49   0.097576  0.281553  0.272727  0.302365  0.301063  0.364175\n",
       "154  0.007394  0.077670  0.069091  0.077703  0.021012  0.048771\n",
       "126  0.606061  0.634951  0.638182  0.628378  0.631253  1.000000\n",
       "77   0.060606  0.168932  0.174545  0.175676  0.202802  0.320535\n",
       "80   0.051515  0.200000  0.203636  0.202703  0.197880  0.280390\n",
       "40   0.000000  0.223301  0.220000  0.236486  0.275519  0.324763\n",
       "2    0.206061  0.318447  0.329091  0.376689  0.618123  0.514279\n",
       "138  0.343636  0.693204  0.683636  0.673986  0.351950  0.538791\n",
       "64   0.072727  0.194175  0.192727  0.211149  0.386787  0.263659"
      ]
     },
     "execution_count": 9,
     "metadata": {},
     "output_type": "execute_result"
    }
   ],
   "source": [
    "# Feature scaling.\n",
    "\n",
    "scaler = MinMaxScaler()\n",
    " \n",
    "X_scaled = scaler.fit_transform(X.to_numpy())\n",
    "\n",
    "X_scaled = pd.DataFrame(X_scaled, columns=['Weight', 'Length1', 'Length2', 'Length3', 'Height', 'Width'])\n",
    "\n",
    "X_scaled.sample(10)"
   ]
  },
  {
   "cell_type": "code",
   "execution_count": 10,
   "metadata": {
    "id": "OREf_7UyZb7P"
   },
   "outputs": [],
   "source": [
    "# Split X and y into training and testing sets\n",
    "\n",
    "from sklearn.model_selection import train_test_split\n",
    "\n",
    "X_train, X_test, y_train, y_test = train_test_split(X, y, test_size = 0.3, random_state = 1)"
   ]
  },
  {
   "cell_type": "code",
   "execution_count": 11,
   "metadata": {
    "colab": {
     "base_uri": "https://localhost:8080/"
    },
    "id": "sFvBr74XZb7R",
    "outputId": "e7f938ec-7298-4bb1-f388-85e506c21177"
   },
   "outputs": [
    {
     "data": {
      "text/plain": [
       "((111, 6), (48, 6))"
      ]
     },
     "execution_count": 11,
     "metadata": {},
     "output_type": "execute_result"
    }
   ],
   "source": [
    "# Check the shape of X_train and X_test\n",
    "\n",
    "X_train.shape, X_test.shape"
   ]
  },
  {
   "cell_type": "code",
   "execution_count": 12,
   "metadata": {
    "colab": {
     "base_uri": "https://localhost:8080/"
    },
    "id": "wUtg3a4HZb7a",
    "outputId": "35e27521-01d1-4521-81b6-470b90df1be2"
   },
   "outputs": [
    {
     "data": {
      "text/plain": [
       "RandomForestClassifier()"
      ]
     },
     "execution_count": 12,
     "metadata": {},
     "output_type": "execute_result"
    }
   ],
   "source": [
    "# Train Model\n",
    "from sklearn.ensemble import RandomForestClassifier\n",
    "\n",
    "classifier = RandomForestClassifier()\n",
    "\n",
    "classifier.fit(X_train, y_train)"
   ]
  },
  {
   "cell_type": "code",
   "execution_count": 13,
   "metadata": {
    "colab": {
     "base_uri": "https://localhost:8080/"
    },
    "id": "-CV3qF0TIxiM",
    "outputId": "ba27b587-0957-46a2-baeb-d7e704dba0d5"
   },
   "outputs": [
    {
     "name": "stdout",
     "output_type": "stream",
     "text": [
      "Accuracy Score: 0.7708333333333334\n"
     ]
    }
   ],
   "source": [
    "# Evaluate Model\n",
    "\n",
    "from sklearn.metrics import accuracy_score\n",
    "\n",
    "y_pred = classifier.predict(X_test)\n",
    "\n",
    "print(\"Accuracy Score:\", accuracy_score(y_test, y_pred))"
   ]
  },
  {
   "cell_type": "code",
   "execution_count": 14,
   "metadata": {
    "id": "weSdOpFHJTLy"
   },
   "outputs": [],
   "source": [
    "# Save model\n",
    "\n",
    "import pickle\n",
    "\n",
    "file_name = \"model.pkl\"\n",
    "pickle.dump(classifier, open(file_name, \"wb\"))"
   ]
  },
  {
   "cell_type": "code",
   "execution_count": 15,
   "metadata": {
    "id": "Vo9P4Dg0JTI2"
   },
   "outputs": [],
   "source": [
    "# Load model\n",
    "\n",
    "with open('model.pkl', 'rb') as f:\n",
    "    model = pickle.load(f)"
   ]
  },
  {
   "cell_type": "code",
   "execution_count": 16,
   "metadata": {
    "colab": {
     "base_uri": "https://localhost:8080/"
    },
    "id": "5yAmBQvdJTFW",
    "outputId": "d5cced78-9225-4c0a-800d-703765569d7a"
   },
   "outputs": [
    {
     "name": "stdout",
     "output_type": "stream",
     "text": [
      "Output: Smelt\n"
     ]
    }
   ],
   "source": [
    "# Custom prediction.\n",
    "input_data = [0.4,0.2,0.3,0.5,0.9,0.1]\n",
    "\n",
    "# Convert input array to pandas dataframe and predict.\n",
    "input_df = pd.DataFrame([input_data], columns=[\"Weight\", \"Length1\", \"Length2\", \"Length3\", \"Height\", \"Width\"])\n",
    "result = model.predict(input_df)\n",
    "print(\"Output:\", result[0])"
   ]
  },
  {
   "cell_type": "code",
   "execution_count": 17,
   "metadata": {
    "colab": {
     "base_uri": "https://localhost:8080/"
    },
    "id": "YF8vsH1pkkdg",
    "outputId": "c08b6b9b-56e1-4294-eeeb-53e28e9fc5ff"
   },
   "outputs": [
    {
     "data": {
      "text/plain": [
       "0.7708333333333334"
      ]
     },
     "execution_count": 17,
     "metadata": {},
     "output_type": "execute_result"
    }
   ],
   "source": [
    "# Accuracy Score\n",
    "\n",
    "accuracy_score(y_test, y_pred)"
   ]
  },
  {
   "cell_type": "code",
   "execution_count": 18,
   "metadata": {
    "colab": {
     "base_uri": "https://localhost:8080/"
    },
    "id": "7gwuFwasZb7g",
    "outputId": "4b7dd2cd-8286-42b9-e891-534e741dc82e"
   },
   "outputs": [
    {
     "name": "stdout",
     "output_type": "stream",
     "text": [
      "              precision    recall  f1-score   support\n",
      "\n",
      "       Bream       1.00      1.00      1.00        10\n",
      "      Parkki       1.00      1.00      1.00         2\n",
      "       Perch       0.70      0.80      0.74        20\n",
      "        Pike       1.00      1.00      1.00         3\n",
      "       Roach       0.50      0.29      0.36         7\n",
      "       Smelt       0.75      1.00      0.86         3\n",
      "   Whitefish       0.50      0.33      0.40         3\n",
      "\n",
      "    accuracy                           0.77        48\n",
      "   macro avg       0.78      0.77      0.77        48\n",
      "weighted avg       0.75      0.77      0.75        48\n",
      "\n"
     ]
    }
   ],
   "source": [
    "# Classification_report\n",
    "from sklearn.metrics import classification_report\n",
    "\n",
    "print(classification_report(y_test, y_pred))"
   ]
  }
 ],
 "metadata": {
  "colab": {
   "collapsed_sections": [],
   "name": "Heroku_JugnuShefin.ipynb",
   "provenance": []
  },
  "kernelspec": {
   "display_name": "Python 3",
   "language": "python",
   "name": "python3"
  },
  "language_info": {
   "codemirror_mode": {
    "name": "ipython",
    "version": 3
   },
   "file_extension": ".py",
   "mimetype": "text/x-python",
   "name": "python",
   "nbconvert_exporter": "python",
   "pygments_lexer": "ipython3",
   "version": "3.8.8"
  }
 },
 "nbformat": 4,
 "nbformat_minor": 1
}
